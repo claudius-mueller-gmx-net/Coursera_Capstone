{
  "nbformat": 4,
  "nbformat_minor": 0,
  "metadata": {
    "colab": {
      "name": "Segmenting and Clustering Neighborhoods in Toronto.ipynb",
      "provenance": [],
      "collapsed_sections": [],
      "authorship_tag": "ABX9TyPdZKTqWWYKZMr7vydJzM49"
    },
    "kernelspec": {
      "name": "python3",
      "display_name": "Python 3"
    }
  },
  "cells": [
    {
      "cell_type": "markdown",
      "metadata": {
        "id": "9I2p3O1AH2HM",
        "colab_type": "text"
      },
      "source": [
        "# Segmenting and Clustering Neighborhoods in Toronto\n",
        "In this blog post, we will explore neighborhoods in Toronto, Canada.\n",
        "\n",
        "First, we will build the code to scrape an HTML table from this Wikipedia page (https://en.wikipedia.org/wiki/List_of_postal_codes_of_Canada:_M) that lists postal codes in Canada.  \n",
        "We will need **requests** for getting the HTML contents of the website and **lxml.html** for parsing the relevant fields. We will then store this data on a **pandas** dataframe."
      ]
    },
    {
      "cell_type": "code",
      "metadata": {
        "id": "L0aklCajH406",
        "colab_type": "code",
        "colab": {}
      },
      "source": [
        "# import libraries\n",
        "import requests\n",
        "import lxml.html as lh\n",
        "import pandas as pd"
      ],
      "execution_count": 0,
      "outputs": []
    },
    {
      "cell_type": "markdown",
      "metadata": {
        "id": "CRnoG2ykKR7-",
        "colab_type": "text"
      },
      "source": [
        "### Scrape the HTML table cells."
      ]
    },
    {
      "cell_type": "code",
      "metadata": {
        "id": "lUi-kmPtKGvO",
        "colab_type": "code",
        "colab": {}
      },
      "source": [
        "url = 'https://en.wikipedia.org/wiki/List_of_postal_codes_of_Canada:_M'\n",
        "\n",
        "# create a handle page to handle the contents of the website\n",
        "page = requests.get(url)\n",
        "\n",
        "# store the contents of the website under doc\n",
        "doc = lh.fromstring(page.content)\n",
        "\n",
        "# parse data that are stored between <tr>...</tr> of HTML\n",
        "tr_elements = doc.xpath('//tr')"
      ],
      "execution_count": 0,
      "outputs": []
    },
    {
      "cell_type": "markdown",
      "metadata": {
        "id": "2zOPeKgOLQrq",
        "colab_type": "text"
      },
      "source": [
        "Ensure that all the rows have the same width. If not, we probably got something more that just the table."
      ]
    },
    {
      "cell_type": "code",
      "metadata": {
        "id": "ENk07MV0LPx-",
        "colab_type": "code",
        "colab": {
          "base_uri": "https://localhost:8080/",
          "height": 36
        },
        "outputId": "bbf3a66c-1c82-4a2e-d47d-19c6a159f103"
      },
      "source": [
        "# check the length of the first 10 rows\n",
        "[len(T) for T in tr_elements[:10]]"
      ],
      "execution_count": 92,
      "outputs": [
        {
          "output_type": "execute_result",
          "data": {
            "text/plain": [
              "[3, 3, 3, 3, 3, 3, 3, 3, 3, 3]"
            ]
          },
          "metadata": {
            "tags": []
          },
          "execution_count": 92
        }
      ]
    },
    {
      "cell_type": "markdown",
      "metadata": {
        "id": "iwUkqM5xLmmp",
        "colab_type": "text"
      },
      "source": [
        "This means that there are 3 columns per row.  \n",
        "Now parse the table header."
      ]
    },
    {
      "cell_type": "code",
      "metadata": {
        "id": "hhIbIPGbLkzS",
        "colab_type": "code",
        "colab": {
          "base_uri": "https://localhost:8080/",
          "height": 91
        },
        "outputId": "965ef4f7-5338-4a85-b279-364fc1ab0c47"
      },
      "source": [
        "# parse the first row as the header\n",
        "tr_elements = doc.xpath('//tr')\n",
        "\n",
        "# create an empty list\n",
        "col = []\n",
        "i = 0\n",
        "\n",
        "# for each row, store each first element (header) and an empty list\n",
        "for t in tr_elements[0]:\n",
        "    i+=1\n",
        "    name = t.text_content()\n",
        "    print('%d:\"%s\"'%(i,name))\n",
        "    col.append((name,[]))"
      ],
      "execution_count": 93,
      "outputs": [
        {
          "output_type": "stream",
          "text": [
            "1:\"Postcode\"\n",
            "2:\"Borough\"\n",
            "3:\"Neighbourhood\n",
            "\"\n"
          ],
          "name": "stdout"
        }
      ]
    },
    {
      "cell_type": "markdown",
      "metadata": {
        "id": "sK2I73RFNnHc",
        "colab_type": "text"
      },
      "source": [
        "### Create pandas dataframe\n",
        "Each header is appended to a tuple along with an empty list"
      ]
    },
    {
      "cell_type": "code",
      "metadata": {
        "id": "jsCSns9xMq3T",
        "colab_type": "code",
        "colab": {}
      },
      "source": [
        "# since the first row is the header, data is stored on the second row onwards\n",
        "for j in range(1, len(tr_elements)):\n",
        "    #T is our j'th row\n",
        "    T = tr_elements[j]\n",
        "    \n",
        "    # if row is not of size 3, the //tr data is not from our table \n",
        "    if len(T)!= 3:\n",
        "        break\n",
        "    \n",
        "    # i is the index of our column\n",
        "    i = 0\n",
        "    \n",
        "    # iterate through each element of the row\n",
        "    for t in T.iterchildren():\n",
        "        data = t.text_content() \n",
        "        # check if row is empty\n",
        "        if i > 0:\n",
        "        # convert any numerical value to integers\n",
        "            try:\n",
        "                data = int(data)\n",
        "            except:\n",
        "                pass\n",
        "        # append the data to the empty list of the i'th column\n",
        "        col[i][1].append(data)\n",
        "        # increment i for the next column\n",
        "        i+=1"
      ],
      "execution_count": 0,
      "outputs": []
    },
    {
      "cell_type": "markdown",
      "metadata": {
        "id": "Ug7iAf0JT-vf",
        "colab_type": "text"
      },
      "source": [
        "Check the length of each column. Ideally, there should all be the same."
      ]
    },
    {
      "cell_type": "code",
      "metadata": {
        "id": "qqUnKC2VT4GR",
        "colab_type": "code",
        "colab": {
          "base_uri": "https://localhost:8080/",
          "height": 36
        },
        "outputId": "32a439c7-ba19-4df2-a13a-6e639f36df3d"
      },
      "source": [
        "[len(C) for (title, C) in col]"
      ],
      "execution_count": 95,
      "outputs": [
        {
          "output_type": "execute_result",
          "data": {
            "text/plain": [
              "[287, 287, 287]"
            ]
          },
          "metadata": {
            "tags": []
          },
          "execution_count": 95
        }
      ]
    },
    {
      "cell_type": "markdown",
      "metadata": {
        "id": "AX6HidFVUrWg",
        "colab_type": "text"
      },
      "source": [
        "This shows that each of the columns has exactly 287 rows."
      ]
    },
    {
      "cell_type": "markdown",
      "metadata": {
        "id": "OYx7d_DZXrrn",
        "colab_type": "text"
      },
      "source": [
        "Create the dataframe."
      ]
    },
    {
      "cell_type": "code",
      "metadata": {
        "id": "T7Yn2GaIUHk5",
        "colab_type": "code",
        "colab": {
          "base_uri": "https://localhost:8080/",
          "height": 206
        },
        "outputId": "3431a66e-a1fa-4f6b-8df4-ed57d21d76a4"
      },
      "source": [
        "Dict = {title:column for (title, column) in col}\n",
        "df = pd.DataFrame(Dict)\n",
        "df.head()"
      ],
      "execution_count": 96,
      "outputs": [
        {
          "output_type": "execute_result",
          "data": {
            "text/html": [
              "<div>\n",
              "<style scoped>\n",
              "    .dataframe tbody tr th:only-of-type {\n",
              "        vertical-align: middle;\n",
              "    }\n",
              "\n",
              "    .dataframe tbody tr th {\n",
              "        vertical-align: top;\n",
              "    }\n",
              "\n",
              "    .dataframe thead th {\n",
              "        text-align: right;\n",
              "    }\n",
              "</style>\n",
              "<table border=\"1\" class=\"dataframe\">\n",
              "  <thead>\n",
              "    <tr style=\"text-align: right;\">\n",
              "      <th></th>\n",
              "      <th>Postcode</th>\n",
              "      <th>Borough</th>\n",
              "      <th>Neighbourhood\\n</th>\n",
              "    </tr>\n",
              "  </thead>\n",
              "  <tbody>\n",
              "    <tr>\n",
              "      <th>0</th>\n",
              "      <td>M1A</td>\n",
              "      <td>Not assigned</td>\n",
              "      <td>Not assigned\\n</td>\n",
              "    </tr>\n",
              "    <tr>\n",
              "      <th>1</th>\n",
              "      <td>M2A</td>\n",
              "      <td>Not assigned</td>\n",
              "      <td>Not assigned\\n</td>\n",
              "    </tr>\n",
              "    <tr>\n",
              "      <th>2</th>\n",
              "      <td>M3A</td>\n",
              "      <td>North York</td>\n",
              "      <td>Parkwoods\\n</td>\n",
              "    </tr>\n",
              "    <tr>\n",
              "      <th>3</th>\n",
              "      <td>M4A</td>\n",
              "      <td>North York</td>\n",
              "      <td>Victoria Village\\n</td>\n",
              "    </tr>\n",
              "    <tr>\n",
              "      <th>4</th>\n",
              "      <td>M5A</td>\n",
              "      <td>Downtown Toronto</td>\n",
              "      <td>Harbourfront\\n</td>\n",
              "    </tr>\n",
              "  </tbody>\n",
              "</table>\n",
              "</div>"
            ],
            "text/plain": [
              "  Postcode           Borough     Neighbourhood\\n\n",
              "0      M1A      Not assigned      Not assigned\\n\n",
              "1      M2A      Not assigned      Not assigned\\n\n",
              "2      M3A        North York         Parkwoods\\n\n",
              "3      M4A        North York  Victoria Village\\n\n",
              "4      M5A  Downtown Toronto      Harbourfront\\n"
            ]
          },
          "metadata": {
            "tags": []
          },
          "execution_count": 96
        }
      ]
    },
    {
      "cell_type": "code",
      "metadata": {
        "id": "xFLq60bKXb-a",
        "colab_type": "code",
        "colab": {
          "base_uri": "https://localhost:8080/",
          "height": 36
        },
        "outputId": "8a790af6-0d04-475c-b0f6-324251f7d96a"
      },
      "source": [
        "df.columns = ['Postcode', 'Borough', 'Neighborhood']\n",
        "cols = df.columns.tolist()\n",
        "cols"
      ],
      "execution_count": 97,
      "outputs": [
        {
          "output_type": "execute_result",
          "data": {
            "text/plain": [
              "['Postcode', 'Borough', 'Neighborhood']"
            ]
          },
          "metadata": {
            "tags": []
          },
          "execution_count": 97
        }
      ]
    },
    {
      "cell_type": "markdown",
      "metadata": {
        "id": "yIYNpYmTZTDX",
        "colab_type": "text"
      },
      "source": [
        "Clean the messy string in the Neighborhood column."
      ]
    },
    {
      "cell_type": "code",
      "metadata": {
        "id": "PUV5keNsZFJ2",
        "colab_type": "code",
        "colab": {
          "base_uri": "https://localhost:8080/",
          "height": 206
        },
        "outputId": "beebe223-8c5e-4f47-cf14-81efe41c4c2e"
      },
      "source": [
        "df = df.replace('\\n', ' ', regex=True)\n",
        "df.head()"
      ],
      "execution_count": 98,
      "outputs": [
        {
          "output_type": "execute_result",
          "data": {
            "text/html": [
              "<div>\n",
              "<style scoped>\n",
              "    .dataframe tbody tr th:only-of-type {\n",
              "        vertical-align: middle;\n",
              "    }\n",
              "\n",
              "    .dataframe tbody tr th {\n",
              "        vertical-align: top;\n",
              "    }\n",
              "\n",
              "    .dataframe thead th {\n",
              "        text-align: right;\n",
              "    }\n",
              "</style>\n",
              "<table border=\"1\" class=\"dataframe\">\n",
              "  <thead>\n",
              "    <tr style=\"text-align: right;\">\n",
              "      <th></th>\n",
              "      <th>Postcode</th>\n",
              "      <th>Borough</th>\n",
              "      <th>Neighborhood</th>\n",
              "    </tr>\n",
              "  </thead>\n",
              "  <tbody>\n",
              "    <tr>\n",
              "      <th>0</th>\n",
              "      <td>M1A</td>\n",
              "      <td>Not assigned</td>\n",
              "      <td>Not assigned</td>\n",
              "    </tr>\n",
              "    <tr>\n",
              "      <th>1</th>\n",
              "      <td>M2A</td>\n",
              "      <td>Not assigned</td>\n",
              "      <td>Not assigned</td>\n",
              "    </tr>\n",
              "    <tr>\n",
              "      <th>2</th>\n",
              "      <td>M3A</td>\n",
              "      <td>North York</td>\n",
              "      <td>Parkwoods</td>\n",
              "    </tr>\n",
              "    <tr>\n",
              "      <th>3</th>\n",
              "      <td>M4A</td>\n",
              "      <td>North York</td>\n",
              "      <td>Victoria Village</td>\n",
              "    </tr>\n",
              "    <tr>\n",
              "      <th>4</th>\n",
              "      <td>M5A</td>\n",
              "      <td>Downtown Toronto</td>\n",
              "      <td>Harbourfront</td>\n",
              "    </tr>\n",
              "  </tbody>\n",
              "</table>\n",
              "</div>"
            ],
            "text/plain": [
              "  Postcode           Borough       Neighborhood\n",
              "0      M1A      Not assigned      Not assigned \n",
              "1      M2A      Not assigned      Not assigned \n",
              "2      M3A        North York         Parkwoods \n",
              "3      M4A        North York  Victoria Village \n",
              "4      M5A  Downtown Toronto      Harbourfront "
            ]
          },
          "metadata": {
            "tags": []
          },
          "execution_count": 98
        }
      ]
    },
    {
      "cell_type": "markdown",
      "metadata": {
        "id": "7ZOwbz9SaLEg",
        "colab_type": "text"
      },
      "source": [
        "Drop all cells with a Borough that is \"Not assigned\"."
      ]
    },
    {
      "cell_type": "code",
      "metadata": {
        "id": "qKSF9n7VZdMc",
        "colab_type": "code",
        "colab": {
          "base_uri": "https://localhost:8080/",
          "height": 363
        },
        "outputId": "69063404-2800-4857-f9e9-2d2b8612fc3f"
      },
      "source": [
        "df.drop(df.index[df['Borough'] == 'Not assigned'], inplace=True)\n",
        "# reset the index and drop the previous index\n",
        "df = df.reset_index(drop=True)\n",
        "df.head(10)"
      ],
      "execution_count": 99,
      "outputs": [
        {
          "output_type": "execute_result",
          "data": {
            "text/html": [
              "<div>\n",
              "<style scoped>\n",
              "    .dataframe tbody tr th:only-of-type {\n",
              "        vertical-align: middle;\n",
              "    }\n",
              "\n",
              "    .dataframe tbody tr th {\n",
              "        vertical-align: top;\n",
              "    }\n",
              "\n",
              "    .dataframe thead th {\n",
              "        text-align: right;\n",
              "    }\n",
              "</style>\n",
              "<table border=\"1\" class=\"dataframe\">\n",
              "  <thead>\n",
              "    <tr style=\"text-align: right;\">\n",
              "      <th></th>\n",
              "      <th>Postcode</th>\n",
              "      <th>Borough</th>\n",
              "      <th>Neighborhood</th>\n",
              "    </tr>\n",
              "  </thead>\n",
              "  <tbody>\n",
              "    <tr>\n",
              "      <th>0</th>\n",
              "      <td>M3A</td>\n",
              "      <td>North York</td>\n",
              "      <td>Parkwoods</td>\n",
              "    </tr>\n",
              "    <tr>\n",
              "      <th>1</th>\n",
              "      <td>M4A</td>\n",
              "      <td>North York</td>\n",
              "      <td>Victoria Village</td>\n",
              "    </tr>\n",
              "    <tr>\n",
              "      <th>2</th>\n",
              "      <td>M5A</td>\n",
              "      <td>Downtown Toronto</td>\n",
              "      <td>Harbourfront</td>\n",
              "    </tr>\n",
              "    <tr>\n",
              "      <th>3</th>\n",
              "      <td>M6A</td>\n",
              "      <td>North York</td>\n",
              "      <td>Lawrence Heights</td>\n",
              "    </tr>\n",
              "    <tr>\n",
              "      <th>4</th>\n",
              "      <td>M6A</td>\n",
              "      <td>North York</td>\n",
              "      <td>Lawrence Manor</td>\n",
              "    </tr>\n",
              "    <tr>\n",
              "      <th>5</th>\n",
              "      <td>M7A</td>\n",
              "      <td>Downtown Toronto</td>\n",
              "      <td>Queen's Park</td>\n",
              "    </tr>\n",
              "    <tr>\n",
              "      <th>6</th>\n",
              "      <td>M9A</td>\n",
              "      <td>Etobicoke</td>\n",
              "      <td>Islington Avenue</td>\n",
              "    </tr>\n",
              "    <tr>\n",
              "      <th>7</th>\n",
              "      <td>M1B</td>\n",
              "      <td>Scarborough</td>\n",
              "      <td>Rouge</td>\n",
              "    </tr>\n",
              "    <tr>\n",
              "      <th>8</th>\n",
              "      <td>M1B</td>\n",
              "      <td>Scarborough</td>\n",
              "      <td>Malvern</td>\n",
              "    </tr>\n",
              "    <tr>\n",
              "      <th>9</th>\n",
              "      <td>M3B</td>\n",
              "      <td>North York</td>\n",
              "      <td>Don Mills North</td>\n",
              "    </tr>\n",
              "  </tbody>\n",
              "</table>\n",
              "</div>"
            ],
            "text/plain": [
              "  Postcode           Borough       Neighborhood\n",
              "0      M3A        North York         Parkwoods \n",
              "1      M4A        North York  Victoria Village \n",
              "2      M5A  Downtown Toronto      Harbourfront \n",
              "3      M6A        North York  Lawrence Heights \n",
              "4      M6A        North York    Lawrence Manor \n",
              "5      M7A  Downtown Toronto      Queen's Park \n",
              "6      M9A         Etobicoke  Islington Avenue \n",
              "7      M1B       Scarborough             Rouge \n",
              "8      M1B       Scarborough           Malvern \n",
              "9      M3B        North York   Don Mills North "
            ]
          },
          "metadata": {
            "tags": []
          },
          "execution_count": 99
        }
      ]
    },
    {
      "cell_type": "markdown",
      "metadata": {
        "id": "y1v_tuBtw3sq",
        "colab_type": "text"
      },
      "source": [
        "Combine neighborhoods based on similar Postcode and Borough."
      ]
    },
    {
      "cell_type": "code",
      "metadata": {
        "id": "Wbuu36eHak5u",
        "colab_type": "code",
        "colab": {
          "base_uri": "https://localhost:8080/",
          "height": 363
        },
        "outputId": "69b44cf4-379e-47a6-cdbe-9fa70d459f06"
      },
      "source": [
        "df = df.groupby(['Postcode', 'Borough'])['Neighborhood'].apply(','.join).reset_index()\n",
        "df.columns = ['Postcode', 'Borough', 'Neighborhood']\n",
        "df.head(10)"
      ],
      "execution_count": 108,
      "outputs": [
        {
          "output_type": "execute_result",
          "data": {
            "text/html": [
              "<div>\n",
              "<style scoped>\n",
              "    .dataframe tbody tr th:only-of-type {\n",
              "        vertical-align: middle;\n",
              "    }\n",
              "\n",
              "    .dataframe tbody tr th {\n",
              "        vertical-align: top;\n",
              "    }\n",
              "\n",
              "    .dataframe thead th {\n",
              "        text-align: right;\n",
              "    }\n",
              "</style>\n",
              "<table border=\"1\" class=\"dataframe\">\n",
              "  <thead>\n",
              "    <tr style=\"text-align: right;\">\n",
              "      <th></th>\n",
              "      <th>Postcode</th>\n",
              "      <th>Borough</th>\n",
              "      <th>Neighborhood</th>\n",
              "    </tr>\n",
              "  </thead>\n",
              "  <tbody>\n",
              "    <tr>\n",
              "      <th>0</th>\n",
              "      <td>M1B</td>\n",
              "      <td>Scarborough</td>\n",
              "      <td>Rouge ,Malvern</td>\n",
              "    </tr>\n",
              "    <tr>\n",
              "      <th>1</th>\n",
              "      <td>M1C</td>\n",
              "      <td>Scarborough</td>\n",
              "      <td>Highland Creek ,Rouge Hill ,Port Union</td>\n",
              "    </tr>\n",
              "    <tr>\n",
              "      <th>2</th>\n",
              "      <td>M1E</td>\n",
              "      <td>Scarborough</td>\n",
              "      <td>Guildwood ,Morningside ,West Hill</td>\n",
              "    </tr>\n",
              "    <tr>\n",
              "      <th>3</th>\n",
              "      <td>M1G</td>\n",
              "      <td>Scarborough</td>\n",
              "      <td>Woburn</td>\n",
              "    </tr>\n",
              "    <tr>\n",
              "      <th>4</th>\n",
              "      <td>M1H</td>\n",
              "      <td>Scarborough</td>\n",
              "      <td>Cedarbrae</td>\n",
              "    </tr>\n",
              "    <tr>\n",
              "      <th>5</th>\n",
              "      <td>M1J</td>\n",
              "      <td>Scarborough</td>\n",
              "      <td>Scarborough Village</td>\n",
              "    </tr>\n",
              "    <tr>\n",
              "      <th>6</th>\n",
              "      <td>M1K</td>\n",
              "      <td>Scarborough</td>\n",
              "      <td>East Birchmount Park ,Ionview ,Kennedy Park</td>\n",
              "    </tr>\n",
              "    <tr>\n",
              "      <th>7</th>\n",
              "      <td>M1L</td>\n",
              "      <td>Scarborough</td>\n",
              "      <td>Clairlea ,Golden Mile ,Oakridge</td>\n",
              "    </tr>\n",
              "    <tr>\n",
              "      <th>8</th>\n",
              "      <td>M1M</td>\n",
              "      <td>Scarborough</td>\n",
              "      <td>Cliffcrest ,Cliffside ,Scarborough Village West</td>\n",
              "    </tr>\n",
              "    <tr>\n",
              "      <th>9</th>\n",
              "      <td>M1N</td>\n",
              "      <td>Scarborough</td>\n",
              "      <td>Birch Cliff ,Cliffside West</td>\n",
              "    </tr>\n",
              "  </tbody>\n",
              "</table>\n",
              "</div>"
            ],
            "text/plain": [
              "  Postcode      Borough                                     Neighborhood\n",
              "0      M1B  Scarborough                                   Rouge ,Malvern\n",
              "1      M1C  Scarborough           Highland Creek ,Rouge Hill ,Port Union\n",
              "2      M1E  Scarborough                Guildwood ,Morningside ,West Hill\n",
              "3      M1G  Scarborough                                           Woburn\n",
              "4      M1H  Scarborough                                        Cedarbrae\n",
              "5      M1J  Scarborough                              Scarborough Village\n",
              "6      M1K  Scarborough      East Birchmount Park ,Ionview ,Kennedy Park\n",
              "7      M1L  Scarborough                  Clairlea ,Golden Mile ,Oakridge\n",
              "8      M1M  Scarborough  Cliffcrest ,Cliffside ,Scarborough Village West\n",
              "9      M1N  Scarborough                      Birch Cliff ,Cliffside West"
            ]
          },
          "metadata": {
            "tags": []
          },
          "execution_count": 108
        }
      ]
    },
    {
      "cell_type": "markdown",
      "metadata": {
        "id": "BATc1xKy01k0",
        "colab_type": "text"
      },
      "source": [
        "Remove any spacing at the start of the string."
      ]
    },
    {
      "cell_type": "code",
      "metadata": {
        "id": "u6gSOo5L0rYW",
        "colab_type": "code",
        "colab": {}
      },
      "source": [
        "df['Neighborhood'] = df['Neighborhood'].str.strip()"
      ],
      "execution_count": 0,
      "outputs": []
    },
    {
      "cell_type": "markdown",
      "metadata": {
        "id": "6kWZKbAG1BIP",
        "colab_type": "text"
      },
      "source": [
        "Assign Borough values to the Neighborhood where value is \"Not assigned\"."
      ]
    },
    {
      "cell_type": "code",
      "metadata": {
        "id": "BWKV1RDQ0-g0",
        "colab_type": "code",
        "colab": {}
      },
      "source": [
        "df.loc[df['Neighborhood'] == 'Not assigned', 'Neighborhood'] = df['Borough']"
      ],
      "execution_count": 0,
      "outputs": []
    },
    {
      "cell_type": "code",
      "metadata": {
        "id": "Y8dKHmC91jmC",
        "colab_type": "code",
        "colab": {
          "base_uri": "https://localhost:8080/",
          "height": 36
        },
        "outputId": "8cd44422-e7ca-4c19-c058-946a1969204e"
      },
      "source": [
        "# shape of the dataframe\n",
        "df.shape"
      ],
      "execution_count": 109,
      "outputs": [
        {
          "output_type": "execute_result",
          "data": {
            "text/plain": [
              "(103, 3)"
            ]
          },
          "metadata": {
            "tags": []
          },
          "execution_count": 109
        }
      ]
    }
  ]
}